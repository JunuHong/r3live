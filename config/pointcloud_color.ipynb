{
 "cells": [
  {
   "cell_type": "code",
   "execution_count": 1,
   "metadata": {},
   "outputs": [
    {
     "name": "stdout",
     "output_type": "stream",
     "text": [
      "Jupyter environment detected. Enabling Open3D WebVisualizer.\n",
      "[Open3D INFO] WebRTC GUI backend enabled.\n",
      "[Open3D INFO] WebRTCWindowSystem: HTTP handshake server disabled.\n"
     ]
    },
    {
     "name": "stderr",
     "output_type": "stream",
     "text": [
      "INFO - 2023-11-24 15:54:16,575 - utils - Note: NumExpr detected 16 cores but \"NUMEXPR_MAX_THREADS\" not set, so enforcing safe limit of 8.\n",
      "INFO - 2023-11-24 15:54:16,576 - utils - NumExpr defaulting to 8 threads.\n"
     ]
    }
   ],
   "source": [
    "import numpy as np\n",
    "import cv2\n",
    "import open3d as o3d\n",
    "import yaml\n",
    "\n",
    "# Read camera calibration parameters from r3live_config_calib.yaml\n",
    "with open('/home/hong/catkin_ws/src/r3live/config/r3live_config_calib.yaml', 'r') as f:\n",
    "    calib_data = yaml.safe_load(f)\n",
    "\n",
    "camera_matrix = np.array(calib_data['r3live_vio']['camera_intrinsic']).reshape(3, 3)\n",
    "dist_coeffs = np.array(calib_data['r3live_vio']['camera_dist_coeffs'])\n",
    "R = np.array(calib_data['r3live_vio']['camera_ext_R']).reshape(3, 3)\n",
    "T = np.array(calib_data['r3live_vio']['camera_ext_t']).reshape(3, 1)"
   ]
  },
  {
   "cell_type": "code",
   "execution_count": 8,
   "metadata": {},
   "outputs": [
    {
     "ename": "NameError",
     "evalue": "name 'o3d' is not defined",
     "output_type": "error",
     "traceback": [
      "\u001b[0;31m---------------------------------------------------------------------------\u001b[0m",
      "\u001b[0;31mNameError\u001b[0m                                 Traceback (most recent call last)",
      "\u001b[1;32m/home/hong/catkin_ws/src/r3live/config/pointcloud_color.ipynb Cell 2\u001b[0m line \u001b[0;36m3\n\u001b[1;32m      <a href='vscode-notebook-cell:/home/hong/catkin_ws/src/r3live/config/pointcloud_color.ipynb#W1sZmlsZQ%3D%3D?line=0'>1</a>\u001b[0m \u001b[39m# Read image and pointcloud data\u001b[39;00m\n\u001b[1;32m      <a href='vscode-notebook-cell:/home/hong/catkin_ws/src/r3live/config/pointcloud_color.ipynb#W1sZmlsZQ%3D%3D?line=1'>2</a>\u001b[0m \u001b[39mimport\u001b[39;00m \u001b[39mos\u001b[39;00m\n\u001b[0;32m----> <a href='vscode-notebook-cell:/home/hong/catkin_ws/src/r3live/config/pointcloud_color.ipynb#W1sZmlsZQ%3D%3D?line=2'>3</a>\u001b[0m pointcloud \u001b[39m=\u001b[39m o3d\u001b[39m.\u001b[39mgeometry\u001b[39m.\u001b[39mPointCloud()\n\u001b[1;32m      <a href='vscode-notebook-cell:/home/hong/catkin_ws/src/r3live/config/pointcloud_color.ipynb#W1sZmlsZQ%3D%3D?line=3'>4</a>\u001b[0m \u001b[39mfor\u001b[39;00m i \u001b[39min\u001b[39;00m \u001b[39mrange\u001b[39m(\u001b[39m16\u001b[39m):\n\u001b[1;32m      <a href='vscode-notebook-cell:/home/hong/catkin_ws/src/r3live/config/pointcloud_color.ipynb#W1sZmlsZQ%3D%3D?line=4'>5</a>\u001b[0m     image \u001b[39m=\u001b[39m cv2\u001b[39m.\u001b[39mimread(\u001b[39mf\u001b[39m\u001b[39m\"\u001b[39m\u001b[39m../log/image/\u001b[39m\u001b[39m{\u001b[39;00mi\u001b[39m}\u001b[39;00m\u001b[39m.png\u001b[39m\u001b[39m\"\u001b[39m)\n",
      "\u001b[0;31mNameError\u001b[0m: name 'o3d' is not defined"
     ]
    }
   ],
   "source": [
    "# Read image and pointcloud data\n",
    "import os\n",
    "pointcloud = o3d.geometry.PointCloud()\n",
    "for i in range(16):\n",
    "    image = cv2.imread(f\"../log/image/{i}.png\")\n",
    "    if i % 4 == 0:\n",
    "        pointcloud += o3d.io.read_point_cloud(f\"../log/lidar/{int(i/4)}.pcd\")\n",
    "image_undistorted = cv2.undistort(image, camera_matrix, dist_coeffs)\n",
    "\n",
    "lidar_frame = o3d.geometry.TriangleMesh.create_coordinate_frame(size=0.5)\n",
    "from open3d.web_visualizer import draw\n",
    "draw([pointcloud, lidar_frame])\n",
    "# o3d.visualization.draw_geometries([pointcloud, lidar_frame])"
   ]
  },
  {
   "cell_type": "code",
   "execution_count": 16,
   "metadata": {},
   "outputs": [
    {
     "ename": "AttributeError",
     "evalue": "'open3d.cpu.pybind.camera.PinholeCameraIntrinsic' object has no attribute 'project'",
     "output_type": "error",
     "traceback": [
      "\u001b[0;31m---------------------------------------------------------------------------\u001b[0m",
      "\u001b[0;31mAttributeError\u001b[0m                            Traceback (most recent call last)",
      "\u001b[0;32m<ipython-input-16-2bd5466ba3ef>\u001b[0m in \u001b[0;36m<module>\u001b[0;34m\u001b[0m\n\u001b[1;32m      9\u001b[0m \u001b[0mcolors\u001b[0m \u001b[0;34m=\u001b[0m \u001b[0;34m[\u001b[0m\u001b[0;34m]\u001b[0m\u001b[0;34m\u001b[0m\u001b[0;34m\u001b[0m\u001b[0m\n\u001b[1;32m     10\u001b[0m \u001b[0;32mfor\u001b[0m \u001b[0mi\u001b[0m \u001b[0;32min\u001b[0m \u001b[0mrange\u001b[0m\u001b[0;34m(\u001b[0m\u001b[0mlen\u001b[0m\u001b[0;34m(\u001b[0m\u001b[0mpointcloud\u001b[0m\u001b[0;34m.\u001b[0m\u001b[0mpoints\u001b[0m\u001b[0;34m)\u001b[0m\u001b[0;34m)\u001b[0m\u001b[0;34m:\u001b[0m\u001b[0;34m\u001b[0m\u001b[0;34m\u001b[0m\u001b[0m\n\u001b[0;32m---> 11\u001b[0;31m     \u001b[0mpixel\u001b[0m \u001b[0;34m=\u001b[0m \u001b[0mintrinsics\u001b[0m\u001b[0;34m.\u001b[0m\u001b[0mproject\u001b[0m\u001b[0;34m(\u001b[0m\u001b[0mnp\u001b[0m\u001b[0;34m.\u001b[0m\u001b[0masarray\u001b[0m\u001b[0;34m(\u001b[0m\u001b[0mpointcloud\u001b[0m\u001b[0;34m.\u001b[0m\u001b[0mpoints\u001b[0m\u001b[0;34m[\u001b[0m\u001b[0mi\u001b[0m\u001b[0;34m]\u001b[0m\u001b[0;34m)\u001b[0m\u001b[0;34m.\u001b[0m\u001b[0mreshape\u001b[0m\u001b[0;34m(\u001b[0m\u001b[0;36m1\u001b[0m\u001b[0;34m,\u001b[0m \u001b[0;34m-\u001b[0m\u001b[0;36m1\u001b[0m\u001b[0;34m)\u001b[0m\u001b[0;34m)\u001b[0m\u001b[0;34m\u001b[0m\u001b[0;34m\u001b[0m\u001b[0m\n\u001b[0m\u001b[1;32m     12\u001b[0m     \u001b[0mpixel\u001b[0m \u001b[0;34m=\u001b[0m \u001b[0mnp\u001b[0m\u001b[0;34m.\u001b[0m\u001b[0mround\u001b[0m\u001b[0;34m(\u001b[0m\u001b[0mpixel\u001b[0m\u001b[0;34m.\u001b[0m\u001b[0msqueeze\u001b[0m\u001b[0;34m(\u001b[0m\u001b[0;34m)\u001b[0m\u001b[0;34m)\u001b[0m\u001b[0;34m.\u001b[0m\u001b[0mastype\u001b[0m\u001b[0;34m(\u001b[0m\u001b[0mint\u001b[0m\u001b[0;34m)\u001b[0m\u001b[0;34m\u001b[0m\u001b[0;34m\u001b[0m\u001b[0m\n\u001b[1;32m     13\u001b[0m     \u001b[0;32mif\u001b[0m \u001b[0mpixel\u001b[0m\u001b[0;34m[\u001b[0m\u001b[0;36m0\u001b[0m\u001b[0;34m]\u001b[0m \u001b[0;34m>=\u001b[0m \u001b[0;36m0\u001b[0m \u001b[0;32mand\u001b[0m \u001b[0mpixel\u001b[0m\u001b[0;34m[\u001b[0m\u001b[0;36m0\u001b[0m\u001b[0;34m]\u001b[0m \u001b[0;34m<\u001b[0m \u001b[0mimage_undistorted\u001b[0m\u001b[0;34m.\u001b[0m\u001b[0mshape\u001b[0m\u001b[0;34m[\u001b[0m\u001b[0;36m1\u001b[0m\u001b[0;34m]\u001b[0m \u001b[0;32mand\u001b[0m \u001b[0mpixel\u001b[0m\u001b[0;34m[\u001b[0m\u001b[0;36m1\u001b[0m\u001b[0;34m]\u001b[0m \u001b[0;34m>=\u001b[0m \u001b[0;36m0\u001b[0m \u001b[0;32mand\u001b[0m \u001b[0mpixel\u001b[0m\u001b[0;34m[\u001b[0m\u001b[0;36m1\u001b[0m\u001b[0;34m]\u001b[0m \u001b[0;34m<\u001b[0m \u001b[0mimage_undistorted\u001b[0m\u001b[0;34m.\u001b[0m\u001b[0mshape\u001b[0m\u001b[0;34m[\u001b[0m\u001b[0;36m0\u001b[0m\u001b[0;34m]\u001b[0m\u001b[0;34m:\u001b[0m\u001b[0;34m\u001b[0m\u001b[0;34m\u001b[0m\u001b[0m\n",
      "\u001b[0;31mAttributeError\u001b[0m: 'open3d.cpu.pybind.camera.PinholeCameraIntrinsic' object has no attribute 'project'"
     ]
    }
   ],
   "source": [
    "# Color pointcloud with image using extrinsic parameters\n",
    "R_inv = R\n",
    "T_inv = T\n",
    "extrinsic = np.hstack((R_inv, T_inv))\n",
    "extrinsic = np.vstack((extrinsic, np.array([0, 0, 0, 1])))\n",
    "pointcloud.transform(extrinsic)\n",
    "\n",
    "intrinsics = o3d.camera.PinholeCameraIntrinsic(camera_matrix.shape[1], camera_matrix.shape[0], camera_matrix[0, 0], camera_matrix[1, 1], camera_matrix[0, 2], camera_matrix[1, 2])\n",
    "colors = []\n",
    "for i in range(len(pointcloud.points)):\n",
    "    pixel = intrinsics.project(np.asarray(pointcloud.points[i]).reshape(1, -1))\n",
    "    pixel = np.round(pixel.squeeze()).astype(int)\n",
    "    if pixel[0] >= 0 and pixel[0] < image_undistorted.shape[1] and pixel[1] >= 0 and pixel[1] < image_undistorted.shape[0]:\n",
    "        colors.append(image_undistorted[pixel[1], pixel[0]].astype(float) / 255)\n",
    "else:\n",
    "        colors.append([0, 0, 0])\n",
    "pointcloud.colors = o3d.utility.Vector3dVector(colors) "
   ]
  },
  {
   "cell_type": "code",
   "execution_count": 35,
   "metadata": {},
   "outputs": [],
   "source": [
    "import open3d as o3d\n",
    "import numpy as np\n",
    "\n",
    "\n",
    "\n",
    "# Create camera frame and scanner frame\n",
    "camera_frame = o3d.geometry.TriangleMesh.create_coordinate_frame(size=30)\n",
    "scanner_frame = o3d.geometry.TriangleMesh.create_coordinate_frame(size=20)\n",
    "\n",
    "# Apply transformation to scanner frame\n",
    "trans = np.matrix([[-1, 0, 0, 0],\n",
    "                   [0, 0.954709, 0.297542, 120.97],\n",
    "                   [0, 0.297542, -0.954709, 16.053],\n",
    "                   [0, 0, 0, 1]])\n",
    "scanner_frame.transform(trans**-1)\n",
    "\n",
    "# Visualize the coordinate frames\n",
    "o3d.visualization.draw_geometries([camera_frame, scanner_frame])\n",
    "\n"
   ]
  },
  {
   "cell_type": "code",
   "execution_count": 50,
   "metadata": {},
   "outputs": [],
   "source": [
    "import open3d as o3d\n",
    "import numpy as np\n",
    "\n",
    "# Create the coordinate frames\n",
    "tf_OW_TW = np.matrix([[1, 1.74846e-07, 0, 0],\n",
    "                     [-1.74846e-07, 1, 0, 0],\n",
    "                     [0, 0, 1, -55],\n",
    "                     [0, 0, 0, 1]])\n",
    "\n",
    "tf_TW_RW = np.matrix([[-1, 8.74228e-08, 0, 840],\n",
    "                     [-8.74228e-08, -1, 0, 0],\n",
    "                     [0, 0, 1, -140],\n",
    "                     [0, 0, 0, 1]])\n",
    "\n",
    "tf_RW_RE = np.matrix([[-4.37114e-08, 4.37114e-08, -1, 516.906],\n",
    "                     [1, 5.01057e-15, -4.37114e-08, 8.6513e-07],\n",
    "                     [3.09988e-15, -1, -4.37114e-08, 195.997],\n",
    "                     [0, 0, 0, 1]])\n",
    "\n",
    "tf_RE_SP = np.matrix([[1, 8.74228e-08, 8.74228e-08, 0],\n",
    "                     [8.74228e-08, -1, 7.64274e-15, 0],\n",
    "                     [8.74228e-08, 0, -1, -57],\n",
    "                     [0, 0, 0, 1]])\n",
    "\n",
    "tf_SP_MC = np.matrix([[-1, 0, 0, 0],\n",
    "                     [0, 0.954709, 0.297542, 120.97],\n",
    "                     [0, 0.297542, -0.954709, 16.053],\n",
    "                     [0, 0, 0, 1]])\n",
    "\n",
    "tf_OW_MC = np.matrix([[-3.93403e-07, -0.297542, 0.954709, 250.041],\n",
    "                     [1, -2.00517e-07, 3.49573e-07, -2.38945e-05],\n",
    "                     [8.74228e-08, 0.954709, 0.297542, 231.967],\n",
    "                     [0, 0, 0, 1]])\n",
    "\n",
    "coordinate_frames = [\n",
    "    o3d.geometry.TriangleMesh.create_coordinate_frame(size=50),\n",
    "    o3d.geometry.TriangleMesh.create_coordinate_frame(size=30),\n",
    "    o3d.geometry.TriangleMesh.create_coordinate_frame(size=10),\n",
    "    o3d.geometry.TriangleMesh.create_coordinate_frame(size=5),\n",
    "    o3d.geometry.TriangleMesh.create_coordinate_frame(size=5),\n",
    "    o3d.geometry.TriangleMesh.create_coordinate_frame(size=5)\n",
    "]\n",
    "\n",
    "# Apply transformations to the coordinate frames\n",
    "coordinate_frames[0]\n",
    "coordinate_frames[1].transform(tf_SP_MC)\n",
    "coordinate_frames[2].transform(tf_RE_SP@tf_SP_MC)\n",
    "coordinate_frames[3].transform(tf_RW_RE@tf_RE_SP@tf_SP_MC)\n",
    "coordinate_frames[4].transform(tf_TW_RW@tf_RW_RE@tf_RE_SP@tf_SP_MC)\n",
    "coordinate_frames[5].transform(tf_OW_TW@tf_TW_RW@tf_RW_RE@tf_RE_SP@tf_SP_MC)\n",
    "\n",
    "# Visualize the coordinate frames\n",
    "o3d.visualization.draw_geometries(coordinate_frames)\n"
   ]
  },
  {
   "cell_type": "code",
   "execution_count": null,
   "metadata": {},
   "outputs": [],
   "source": []
  }
 ],
 "metadata": {
  "kernelspec": {
   "display_name": "Python 3",
   "language": "python",
   "name": "python3"
  },
  "language_info": {
   "codemirror_mode": {
    "name": "ipython",
    "version": 3
   },
   "file_extension": ".py",
   "mimetype": "text/x-python",
   "name": "python",
   "nbconvert_exporter": "python",
   "pygments_lexer": "ipython3",
   "version": "3.8.10"
  }
 },
 "nbformat": 4,
 "nbformat_minor": 2
}
